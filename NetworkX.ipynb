{
 "cells": [
  {
   "cell_type": "markdown",
   "id": "0fb11b4f",
   "metadata": {},
   "source": [
    "**How To Install NetworkX**\n",
    "\n",
    "\n",
    "\n",
    "To install the NetworkX package, you can follow the steps below:"
   ]
  },
  {
   "cell_type": "markdown",
   "id": "2fcf3540",
   "metadata": {},
   "source": [
    "Open your terminal and type the following command to update the system:"
   ]
  },
  {
   "cell_type": "code",
   "execution_count": null,
   "id": "acf25532",
   "metadata": {},
   "outputs": [],
   "source": [
    "Command: sudo apt upgrade && sudo apt update -y"
   ]
  },
  {
   "cell_type": "markdown",
   "id": "d4383bb8",
   "metadata": {},
   "source": [
    "Ensure that your pip installation is up to date:"
   ]
  },
  {
   "cell_type": "code",
   "execution_count": null,
   "id": "cc222ce0",
   "metadata": {},
   "outputs": [],
   "source": [
    "Command: pip install --upgrade pip"
   ]
  },
  {
   "cell_type": "markdown",
   "id": "8c069239",
   "metadata": {},
   "source": [
    "Type the following command to install Python:"
   ]
  },
  {
   "cell_type": "code",
   "execution_count": null,
   "id": "7686d00f",
   "metadata": {},
   "outputs": [],
   "source": [
    "Command: sudo apt-get install python3"
   ]
  },
  {
   "cell_type": "code",
   "execution_count": null,
   "id": "7f322386",
   "metadata": {},
   "outputs": [],
   "source": [
    "To check the version of Python that you have installed, type the following command:"
   ]
  },
  {
   "cell_type": "code",
   "execution_count": null,
   "id": "d8b51e60",
   "metadata": {},
   "outputs": [],
   "source": [
    "Command: python3 --version"
   ]
  },
  {
   "cell_type": "markdown",
   "id": "b42c4049",
   "metadata": {},
   "source": [
    "Next, type in the following command and press Enter to install NetworkX:"
   ]
  },
  {
   "cell_type": "code",
   "execution_count": null,
   "id": "42873bba",
   "metadata": {},
   "outputs": [],
   "source": [
    "Command: !pip install networkx or pip install networkx"
   ]
  }
 ],
 "metadata": {
  "kernelspec": {
   "display_name": "Python 3 (ipykernel)",
   "language": "python",
   "name": "python3"
  },
  "language_info": {
   "codemirror_mode": {
    "name": "ipython",
    "version": 3
   },
   "file_extension": ".py",
   "mimetype": "text/x-python",
   "name": "python",
   "nbconvert_exporter": "python",
   "pygments_lexer": "ipython3",
   "version": "3.10.6"
  }
 },
 "nbformat": 4,
 "nbformat_minor": 5
}
