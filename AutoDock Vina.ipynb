{
 "cells": [
  {
   "cell_type": "markdown",
   "id": "8ecf56a2",
   "metadata": {},
   "source": [
    "**How to Install AutoDock Vina On Ubuntu**\n",
    "```\n",
    "Downloading the files:\n",
    "$ cd Bioinfo_Soft/\n",
    "$ wget http://mgltools.scripps.edu/downloads/tars/releases/REL1.5.6/mgltools_x86_64Linux2_1.5.7.tar.gz\n",
    "$ wget https://vina.scripps.edu/wp-content/uploads/sites/55/2020/12/autodock_vina_1_1_2_linux_x86.tgz\n",
    "$ sudo apt-get install libjpeg62:i386 for installing the python imaging library\n",
    "```\n",
    "\n",
    "**Installation**\n",
    "```\n",
    "$ cd Bioinfo_Soft/\n",
    "$ tar xvf autodock_vina_1_1_2_linux_x86.tgz\n",
    "$ tar -xvzf mgltools_x86_64Linux2_1.5.7.tar.gz\n",
    "```\n",
    "\n",
    "This will extract files of mgl tools and create a folder named “mgltools_x86_64Linux2_1.5.6”. Now to install it, we will go to the mgl tools directory.\n",
    "```\n",
    "$ cd mgltools_x86_64Linux2_1.5.7\n",
    "$ ./install.sh\n",
    "```\n",
    "\n",
    "**Creating aliases**\n",
    "```\n",
    "If you would see the README file in the bin folder of mgl tools, it shows the paths for running the autodock tools and python molecular viewer. Using these paths, we will create aliases and to use them permanently we will add them in the bashrc file.\n",
    "Open the terminal and type the following commands:\n",
    "\n",
    "$ gedit ~/.bashrc\n",
    "It will open the bashrc file, go at the end of this file and type the following:\n",
    "\n",
    "alias adt='sudo /home/username/Bioinfo_Soft/mgltools_x86_64Linux2_1.5.7/bin/adt'\n",
    "alias pmv='sudo /home/username/Bioinfo_Soft/mgltools_x86_64Linux2_1.5.7/bin/pmv'\n",
    " \n",
    "\n",
    "Save the file, go back to the terminal and enter the following command:\n",
    "$ source ~/.bashrc\n",
    "\n",
    "Now, whenever you will type ‘adt’ or ‘pmv’ on the terminal, it will open the autodock vina or pymol viewer respectively.\n",
    "```"
   ]
  }
 ],
 "metadata": {
  "kernelspec": {
   "display_name": "Python 3 (ipykernel)",
   "language": "python",
   "name": "python3"
  },
  "language_info": {
   "codemirror_mode": {
    "name": "ipython",
    "version": 3
   },
   "file_extension": ".py",
   "mimetype": "text/x-python",
   "name": "python",
   "nbconvert_exporter": "python",
   "pygments_lexer": "ipython3",
   "version": "3.10.6"
  }
 },
 "nbformat": 4,
 "nbformat_minor": 5
}
